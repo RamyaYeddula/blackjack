{
 "cells": [
  {
   "cell_type": "markdown",
   "metadata": {
    "collapsed": true
   },
   "source": [
    "# Blackjack at a Casino"
   ]
  },
  {
   "cell_type": "markdown",
   "metadata": {},
   "source": [
    "This note book is to explore outcomes of over 1 million blackjack hands played on 50 different tables with deck size of 20 sets with random number of players ranging between 1 to 6 per round"
   ]
  },
  {
   "cell_type": "markdown",
   "metadata": {},
   "source": [
    "The data is generated using this python [script]. The hit or pass decision for both the dealer and player is based solely on their current hand value. That is, keep hitting until the hand value is >17. Let's see what we can understand from these games.\n",
    "[script]:https://github.com/anilmarella/blackjack/blob/master/generate_blackjack_data.py"
   ]
  },
  {
   "cell_type": "code",
   "execution_count": 1,
   "metadata": {
    "collapsed": true
   },
   "outputs": [],
   "source": [
    "# Importing necessary libraries\n",
    "import pandas as pd\n",
    "import numpy as np\n",
    "import seaborn as sns\n",
    "import matplotlib.pyplot as plt\n",
    "%matplotlib inline"
   ]
  },
  {
   "cell_type": "code",
   "execution_count": 2,
   "metadata": {
    "collapsed": false
   },
   "outputs": [
    {
     "name": "stdout",
     "output_type": "stream",
     "text": [
      "Number of rows in the dataset is 1000003\n",
      "\n",
      "Number of columns in the dataset is 8\n",
      "\n",
      "Columns in the dataset are\n",
      "Index(['TableNum', 'NumPlayers', 'PlayerHand', 'PlayerHandValue',\n",
      "       'DealerOpenCard', 'DealerHand', 'DealerHandValue', 'Winner'],\n",
      "      dtype='object')\n",
      "\n",
      "Peak at the data\n",
      "   TableNum  NumPlayers                      PlayerHand  PlayerHandValue  \\\n",
      "0        12           5           King_Diamonds:9_Clubs               19   \n",
      "1        49           6  2_Diamonds:Queen_Clubs:8_Clubs               20   \n",
      "2        43           6          2_Spades:King_Diamonds               12   \n",
      "3        12           4           King_Clubs:Jack_Clubs               20   \n",
      "4        27           6    3_Diamonds:9_Hearts:9_Spades               21   \n",
      "\n",
      "  DealerOpenCard                             DealerHand  DealerHandValue  \\\n",
      "0       3_Hearts  3_Hearts:4_Spades:9_Spades:5_Diamonds               21   \n",
      "1     7_Diamonds          7_Diamonds:2_Clubs:Jack_Clubs               19   \n",
      "2     Ace_Hearts                 Ace_Hearts:Queen_Clubs               21   \n",
      "3    10_Diamonds                 10_Diamonds:Ace_Hearts               21   \n",
      "4       9_Hearts           9_Hearts:6_Diamonds:7_Spades               22   \n",
      "\n",
      "   Winner  \n",
      "0  dealer  \n",
      "1  player  \n",
      "2  dealer  \n",
      "3  dealer  \n",
      "4  player  \n"
     ]
    }
   ],
   "source": [
    "black_jack_df = pd.read_csv('blackjack_data.csv')\n",
    "print('Number of rows in the dataset is', black_jack_df.shape[0])\n",
    "print('\\nNumber of columns in the dataset is', black_jack_df.shape[1])\n",
    "print('\\nColumns in the dataset are')\n",
    "print(black_jack_df.columns)\n",
    "print('\\nPeak at the data')\n",
    "print(black_jack_df.head())"
   ]
  },
  {
   "cell_type": "markdown",
   "metadata": {},
   "source": [
    "First of all let us see how many hands did each one win."
   ]
  },
  {
   "cell_type": "code",
   "execution_count": 3,
   "metadata": {
    "collapsed": false
   },
   "outputs": [
    {
     "data": {
      "text/plain": [
       "<matplotlib.axes._subplots.AxesSubplot at 0x258417e6ba8>"
      ]
     },
     "execution_count": 3,
     "metadata": {},
     "output_type": "execute_result"
    },
    {
     "data": {
      "image/png": "[encoded data removed]",
      "text/plain": [
       "<matplotlib.figure.Figure at 0x258374382e8>"
      ]
     },
     "metadata": {},
     "output_type": "display_data"
    }
   ],
   "source": [
    "sns.countplot(x='Winner', data=black_jack_df)"
   ]
  },
  {
   "cell_type": "markdown",
   "metadata": {
    "collapsed": false
   },
   "source": [
    "It looks like the dealer on a average wins more hands. This is obvious because the player gets to go first and the dealer won't even play if the players busts out. "
   ]
  },
  {
   "cell_type": "markdown",
   "metadata": {},
   "source": [
    "Next, it would be nice to see how Dealer winning varies on the Dealer's open card."
   ]
  },
  {
   "cell_type": "code",
   "execution_count": 4,
   "metadata": {
    "collapsed": true
   },
   "outputs": [],
   "source": [
    "black_jack_df['DealerOpenCardValue'] = black_jack_df['DealerOpenCard'].str.split('_').apply(lambda x : x[0])"
   ]
  },
  {
   "cell_type": "code",
   "execution_count": 5,
   "metadata": {
    "collapsed": true
   },
   "outputs": [],
   "source": [
    "order = ['Ace','2','3','4','5','6','7','8','9','10','Jack','Queen','King']"
   ]
  },
  {
   "cell_type": "code",
   "execution_count": 6,
   "metadata": {
    "collapsed": false
   },
   "outputs": [
    {
     "data": {
      "text/plain": [
       "<matplotlib.axes._subplots.AxesSubplot at 0x25853358588>"
      ]
     },
     "execution_count": 6,
     "metadata": {},
     "output_type": "execute_result"
    },
    {
     "data": {
      "image/png": "[encoded data removed]",
      "text/plain": [
       "<matplotlib.figure.Figure at 0x2585335a7f0>"
      ]
     },
     "metadata": {},
     "output_type": "display_data"
    }
   ],
   "source": [
    "sns.countplot(x='DealerOpenCardValue', data=black_jack_df[black_jack_df['Winner'] == 'dealer'], order=order)"
   ]
  },
  {
   "cell_type": "markdown",
   "metadata": {
    "collapsed": false
   },
   "source": [
    "Now we know what to do when we see an Ace on the Dealer's open card. Let's further see how many times the dealer gets busted for each of the open card."
   ]
  },
  {
   "cell_type": "code",
   "execution_count": 7,
   "metadata": {
    "collapsed": false
   },
   "outputs": [
    {
     "data": {
      "text/plain": [
       "<matplotlib.axes._subplots.AxesSubplot at 0x25853340518>"
      ]
     },
     "execution_count": 7,
     "metadata": {},
     "output_type": "execute_result"
    },
    {
     "data": {
      "image/png": "[encoded data removed]",
      "text/plain": [
       "<matplotlib.figure.Figure at 0x25853304cf8>"
      ]
     },
     "metadata": {},
     "output_type": "display_data"
    }
   ],
   "source": [
    "sns.countplot(x='DealerOpenCardValue', data=black_jack_df[black_jack_df['DealerHandValue'] > 21], order=order)"
   ]
  },
  {
   "cell_type": "markdown",
   "metadata": {},
   "source": [
    "Dealer has the highest bust rate at 4,5,6 open cards. Something to keep in mind for the next visit to a Casino"
   ]
  },
  {
   "cell_type": "code",
   "execution_count": null,
   "metadata": {
    "collapsed": true
   },
   "outputs": [],
   "source": []
  }
 ],
 "metadata": {
  "kernelspec": {
   "display_name": "Python [Root]",
   "language": "python",
   "name": "Python [Root]"
  },
  "language_info": {
   "codemirror_mode": {
    "name": "ipython",
    "version": 3
   },
   "file_extension": ".py",
   "mimetype": "text/x-python",
   "name": "python",
   "nbconvert_exporter": "python",
   "pygments_lexer": "ipython3",
   "version": "3.5.4"
  }
 },
 "nbformat": 4,
 "nbformat_minor": 0
}
